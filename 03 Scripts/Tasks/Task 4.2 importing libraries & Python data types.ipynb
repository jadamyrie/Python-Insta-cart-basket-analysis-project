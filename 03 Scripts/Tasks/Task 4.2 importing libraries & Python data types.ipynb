{
 "cells": [
  {
   "cell_type": "markdown",
   "id": "ede01dac",
   "metadata": {},
   "source": [
    "# Importing Libraries"
   ]
  },
  {
   "cell_type": "code",
   "execution_count": null,
   "id": "11bfcf7f",
   "metadata": {},
   "outputs": [],
   "source": [
    "# import libraries "
   ]
  },
  {
   "cell_type": "code",
   "execution_count": 1,
   "id": "3eb0cd8b",
   "metadata": {},
   "outputs": [],
   "source": [
    "import pandas as pd\n",
    "import numpy as np\n",
    "import os"
   ]
  },
  {
   "cell_type": "markdown",
   "id": "2db70478",
   "metadata": {},
   "source": [
    "# Python Data Types"
   ]
  },
  {
   "cell_type": "code",
   "execution_count": 2,
   "id": "9190aa42",
   "metadata": {},
   "outputs": [],
   "source": [
    "a = 50"
   ]
  },
  {
   "cell_type": "code",
   "execution_count": 3,
   "id": "1089d1d9",
   "metadata": {},
   "outputs": [],
   "source": [
    "b = 25"
   ]
  },
  {
   "cell_type": "code",
   "execution_count": 4,
   "id": "b78ad3e1",
   "metadata": {},
   "outputs": [],
   "source": [
    "c = 25"
   ]
  },
  {
   "cell_type": "code",
   "execution_count": 5,
   "id": "fc7d9ebc",
   "metadata": {},
   "outputs": [],
   "source": [
    "d = a + b + c"
   ]
  },
  {
   "cell_type": "code",
   "execution_count": 6,
   "id": "0a97e53d",
   "metadata": {},
   "outputs": [
    {
     "name": "stdout",
     "output_type": "stream",
     "text": [
      "100\n"
     ]
    }
   ],
   "source": [
    "print (d)"
   ]
  },
  {
   "cell_type": "code",
   "execution_count": 7,
   "id": "7d90716b",
   "metadata": {},
   "outputs": [],
   "source": [
    "e = 200"
   ]
  },
  {
   "cell_type": "code",
   "execution_count": 8,
   "id": "58c292ba",
   "metadata": {},
   "outputs": [
    {
     "name": "stdout",
     "output_type": "stream",
     "text": [
      "100\n"
     ]
    }
   ],
   "source": [
    "print ( e-d )"
   ]
  },
  {
   "cell_type": "code",
   "execution_count": 9,
   "id": "59a9c7c0",
   "metadata": {},
   "outputs": [],
   "source": [
    "f = 50"
   ]
  },
  {
   "cell_type": "code",
   "execution_count": 10,
   "id": "4867b842",
   "metadata": {},
   "outputs": [
    {
     "name": "stdout",
     "output_type": "stream",
     "text": [
      "100\n"
     ]
    }
   ],
   "source": [
    "print ( f + b + c)"
   ]
  },
  {
   "cell_type": "code",
   "execution_count": 11,
   "id": "1f5016e3",
   "metadata": {},
   "outputs": [],
   "source": [
    "x = 4.546"
   ]
  },
  {
   "cell_type": "code",
   "execution_count": 12,
   "id": "01494aa9",
   "metadata": {},
   "outputs": [],
   "source": [
    "y = 2.245"
   ]
  },
  {
   "cell_type": "code",
   "execution_count": 13,
   "id": "c43aee15",
   "metadata": {},
   "outputs": [
    {
     "name": "stdout",
     "output_type": "stream",
     "text": [
      "2.0249443207126947\n"
     ]
    }
   ],
   "source": [
    "print (x/y)"
   ]
  },
  {
   "cell_type": "code",
   "execution_count": 14,
   "id": "35c9d552",
   "metadata": {},
   "outputs": [],
   "source": [
    "a = 'app'"
   ]
  },
  {
   "cell_type": "code",
   "execution_count": 15,
   "id": "40a82227",
   "metadata": {},
   "outputs": [],
   "source": [
    "b = 'le'"
   ]
  },
  {
   "cell_type": "code",
   "execution_count": 16,
   "id": "499c474b",
   "metadata": {},
   "outputs": [
    {
     "name": "stdout",
     "output_type": "stream",
     "text": [
      "apple\n"
     ]
    }
   ],
   "source": [
    "print (a + b)"
   ]
  },
  {
   "cell_type": "code",
   "execution_count": 40,
   "id": "8a1f79c7",
   "metadata": {},
   "outputs": [],
   "source": [
    "b = ' The '"
   ]
  },
  {
   "cell_type": "code",
   "execution_count": 41,
   "id": "1d469d61",
   "metadata": {},
   "outputs": [],
   "source": [
    "c = ' boy '"
   ]
  },
  {
   "cell_type": "code",
   "execution_count": 42,
   "id": "9a94aa25",
   "metadata": {},
   "outputs": [],
   "source": [
    "d = ' is '"
   ]
  },
  {
   "cell_type": "code",
   "execution_count": 43,
   "id": "9b209aca",
   "metadata": {},
   "outputs": [],
   "source": [
    "e = ' happy.'"
   ]
  },
  {
   "cell_type": "code",
   "execution_count": 44,
   "id": "86972b59",
   "metadata": {},
   "outputs": [],
   "source": [
    "f = (b + c + d + e)"
   ]
  },
  {
   "cell_type": "code",
   "execution_count": 45,
   "id": "8a56bc52",
   "metadata": {},
   "outputs": [
    {
     "name": "stdout",
     "output_type": "stream",
     "text": [
      " The  boy  is  happy.\n"
     ]
    }
   ],
   "source": [
    "print (f)\n"
   ]
  },
  {
   "cell_type": "code",
   "execution_count": 46,
   "id": "11057e3f",
   "metadata": {},
   "outputs": [],
   "source": [
    "g= ' However, '\n"
   ]
  },
  {
   "cell_type": "code",
   "execution_count": 47,
   "id": "6fbf6060",
   "metadata": {},
   "outputs": [],
   "source": [
    "h= ' he '"
   ]
  },
  {
   "cell_type": "code",
   "execution_count": 48,
   "id": "18546ad1",
   "metadata": {},
   "outputs": [],
   "source": [
    "i= ' lost '"
   ]
  },
  {
   "cell_type": "code",
   "execution_count": 49,
   "id": "85e8e714",
   "metadata": {},
   "outputs": [],
   "source": [
    "j= ' race.'"
   ]
  },
  {
   "cell_type": "code",
   "execution_count": 55,
   "id": "7e31aa12",
   "metadata": {},
   "outputs": [],
   "source": [
    "l = ' the '"
   ]
  },
  {
   "cell_type": "code",
   "execution_count": 56,
   "id": "71c1c7aa",
   "metadata": {},
   "outputs": [],
   "source": [
    "k= (g + h + i + l+ j)"
   ]
  },
  {
   "cell_type": "code",
   "execution_count": 57,
   "id": "7156c566",
   "metadata": {},
   "outputs": [
    {
     "name": "stdout",
     "output_type": "stream",
     "text": [
      " However,  he  lost  the  race.\n"
     ]
    }
   ],
   "source": [
    "print (k)"
   ]
  },
  {
   "cell_type": "code",
   "execution_count": 58,
   "id": "a75079c1",
   "metadata": {},
   "outputs": [
    {
     "name": "stdout",
     "output_type": "stream",
     "text": [
      " The  boy  is  happy. However,  he  lost  the  race.\n"
     ]
    }
   ],
   "source": [
    "print (f+k)"
   ]
  },
  {
   "cell_type": "code",
   "execution_count": 59,
   "id": "b100356b",
   "metadata": {},
   "outputs": [],
   "source": [
    "m= 'boy'"
   ]
  },
  {
   "cell_type": "code",
   "execution_count": 60,
   "id": "e250d8c4",
   "metadata": {},
   "outputs": [
    {
     "data": {
      "text/plain": [
       "'boyboyboyboyboyboyboyboyboyboyboyboyboyboyboyboyboyboyboyboyboyboyboyboyboyboyboyboyboyboyboyboyboyboyboyboyboyboyboyboyboyboyboyboyboyboyboyboyboyboyboyboyboyboyboyboyboyboyboyboyboyboyboyboyboyboyboyboyboyboyboyboyboyboyboyboyboyboyboyboyboyboyboyboyboyboyboyboyboyboyboyboyboyboyboyboyboyboyboyboy'"
      ]
     },
     "execution_count": 60,
     "metadata": {},
     "output_type": "execute_result"
    }
   ],
   "source": [
    "m * 100"
   ]
  },
  {
   "cell_type": "code",
   "execution_count": null,
   "id": "7ebb5b2d",
   "metadata": {},
   "outputs": [],
   "source": []
  }
 ],
 "metadata": {
  "kernelspec": {
   "display_name": "Python 3 (ipykernel)",
   "language": "python",
   "name": "python3"
  },
  "language_info": {
   "codemirror_mode": {
    "name": "ipython",
    "version": 3
   },
   "file_extension": ".py",
   "mimetype": "text/x-python",
   "name": "python",
   "nbconvert_exporter": "python",
   "pygments_lexer": "ipython3",
   "version": "3.9.13"
  }
 },
 "nbformat": 4,
 "nbformat_minor": 5
}
